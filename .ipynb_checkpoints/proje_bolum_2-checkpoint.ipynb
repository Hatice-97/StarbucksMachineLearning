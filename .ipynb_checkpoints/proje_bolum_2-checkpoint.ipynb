{
  "cells": [
    {
      "metadata": {
        "trusted": true
      },
      "cell_type": "code",
      "source": "import pandas as pd\nimport numpy as np\nimport math\nimport json\nimport seaborn as sns\nfrom tqdm import tqdm\nimport helpers as h\nimport matplotlib.pyplot as plt\nimport warnings\nwarnings.filterwarnings('ignore')\n\n%matplotlib inline\nfrom sklearn.preprocessing import StandardScaler, RobustScaler\nfrom sklearn.model_selection import cross_val_score, cross_validate\nfrom sklearn.model_selection import KFold\nfrom sklearn.pipeline import Pipeline\nfrom sklearn.preprocessing import FunctionTransformer\nfrom sklearn.metrics import  mean_squared_error\nfrom sklearn.multioutput import MultiOutputRegressor\nfrom sklearn.ensemble import GradientBoostingRegressor\nfrom sklearn.preprocessing import StandardScaler, RobustScaler, MinMaxScaler\nfrom sklearn.linear_model import LinearRegression\nfrom sklearn.ensemble import RandomForestRegressor\nfrom sklearn.model_selection import GridSearchCV, RandomizedSearchCV",
      "execution_count": 1,
      "outputs": []
    },
    {
      "metadata": {
        "trusted": true
      },
      "cell_type": "code",
      "source": "cleaned_data = pd.read_csv('portfolio_profile_transcript_cleaned.csv')",
      "execution_count": 2,
      "outputs": []
    },
    {
      "metadata": {
        "trusted": true
      },
      "cell_type": "code",
      "source": "cleaned_data.head()",
      "execution_count": 4,
      "outputs": [
        {
          "output_type": "execute_result",
          "execution_count": 4,
          "data": {
            "text/html": "<div>\n<style scoped>\n    .dataframe tbody tr th:only-of-type {\n        vertical-align: middle;\n    }\n\n    .dataframe tbody tr th {\n        vertical-align: top;\n    }\n\n    .dataframe thead th {\n        text-align: right;\n    }\n</style>\n<table border=\"1\" class=\"dataframe\">\n  <thead>\n    <tr style=\"text-align: right;\">\n      <th></th>\n      <th>Unnamed: 0</th>\n      <th>age</th>\n      <th>income</th>\n      <th>offer received_bogo_10_10_7</th>\n      <th>offer received_bogo_10_10_5</th>\n      <th>offer received_informational_0_0_4</th>\n      <th>offer received_bogo_5_5_7</th>\n      <th>offer received_discount_20_5_10</th>\n      <th>offer received_discount_7_3_7</th>\n      <th>offer received_discount_10_2_10</th>\n      <th>...</th>\n      <th>gender_F</th>\n      <th>gender_M</th>\n      <th>gender_O</th>\n      <th>member_year_2013</th>\n      <th>member_year_2014</th>\n      <th>member_year_2015</th>\n      <th>member_year_2016</th>\n      <th>member_year_2017</th>\n      <th>member_year_2018</th>\n      <th>cluster</th>\n    </tr>\n  </thead>\n  <tbody>\n    <tr>\n      <th>0</th>\n      <td>0610b486422d4921ae7d2bf64640c50b</td>\n      <td>55</td>\n      <td>112000.0</td>\n      <td>0.0</td>\n      <td>0.0</td>\n      <td>1.0</td>\n      <td>1.0</td>\n      <td>0.0</td>\n      <td>0.0</td>\n      <td>0.0</td>\n      <td>...</td>\n      <td>1</td>\n      <td>0</td>\n      <td>0</td>\n      <td>0</td>\n      <td>0</td>\n      <td>0</td>\n      <td>0</td>\n      <td>1</td>\n      <td>0</td>\n      <td>7</td>\n    </tr>\n    <tr>\n      <th>1</th>\n      <td>78afa995795e4d85b5d9ceeca43f5fef</td>\n      <td>75</td>\n      <td>100000.0</td>\n      <td>1.0</td>\n      <td>0.0</td>\n      <td>0.0</td>\n      <td>1.0</td>\n      <td>0.0</td>\n      <td>0.0</td>\n      <td>0.0</td>\n      <td>...</td>\n      <td>1</td>\n      <td>0</td>\n      <td>0</td>\n      <td>0</td>\n      <td>0</td>\n      <td>0</td>\n      <td>0</td>\n      <td>1</td>\n      <td>0</td>\n      <td>5</td>\n    </tr>\n    <tr>\n      <th>2</th>\n      <td>e2127556f4f64592b11af22de27a7932</td>\n      <td>68</td>\n      <td>70000.0</td>\n      <td>0.0</td>\n      <td>0.0</td>\n      <td>1.0</td>\n      <td>1.0</td>\n      <td>0.0</td>\n      <td>0.0</td>\n      <td>1.0</td>\n      <td>...</td>\n      <td>0</td>\n      <td>1</td>\n      <td>0</td>\n      <td>0</td>\n      <td>0</td>\n      <td>0</td>\n      <td>0</td>\n      <td>0</td>\n      <td>1</td>\n      <td>5</td>\n    </tr>\n    <tr>\n      <th>3</th>\n      <td>389bc3fa690240e798340f5a15918d5c</td>\n      <td>65</td>\n      <td>53000.0</td>\n      <td>0.0</td>\n      <td>0.0</td>\n      <td>0.0</td>\n      <td>2.0</td>\n      <td>0.0</td>\n      <td>0.0</td>\n      <td>1.0</td>\n      <td>...</td>\n      <td>0</td>\n      <td>1</td>\n      <td>0</td>\n      <td>0</td>\n      <td>0</td>\n      <td>0</td>\n      <td>0</td>\n      <td>0</td>\n      <td>1</td>\n      <td>5</td>\n    </tr>\n    <tr>\n      <th>4</th>\n      <td>2eeac8d8feae4a8cad5a6af0499a211d</td>\n      <td>58</td>\n      <td>51000.0</td>\n      <td>0.0</td>\n      <td>0.0</td>\n      <td>1.0</td>\n      <td>0.0</td>\n      <td>0.0</td>\n      <td>1.0</td>\n      <td>1.0</td>\n      <td>...</td>\n      <td>0</td>\n      <td>1</td>\n      <td>0</td>\n      <td>0</td>\n      <td>0</td>\n      <td>0</td>\n      <td>0</td>\n      <td>1</td>\n      <td>0</td>\n      <td>1</td>\n    </tr>\n  </tbody>\n</table>\n<p>5 rows × 94 columns</p>\n</div>",
            "text/plain": "                         Unnamed: 0  age    income  \\\n0  0610b486422d4921ae7d2bf64640c50b   55  112000.0   \n1  78afa995795e4d85b5d9ceeca43f5fef   75  100000.0   \n2  e2127556f4f64592b11af22de27a7932   68   70000.0   \n3  389bc3fa690240e798340f5a15918d5c   65   53000.0   \n4  2eeac8d8feae4a8cad5a6af0499a211d   58   51000.0   \n\n   offer received_bogo_10_10_7  offer received_bogo_10_10_5  \\\n0                          0.0                          0.0   \n1                          1.0                          0.0   \n2                          0.0                          0.0   \n3                          0.0                          0.0   \n4                          0.0                          0.0   \n\n   offer received_informational_0_0_4  offer received_bogo_5_5_7  \\\n0                                 1.0                        1.0   \n1                                 0.0                        1.0   \n2                                 1.0                        1.0   \n3                                 0.0                        2.0   \n4                                 1.0                        0.0   \n\n   offer received_discount_20_5_10  offer received_discount_7_3_7  \\\n0                              0.0                            0.0   \n1                              0.0                            0.0   \n2                              0.0                            0.0   \n3                              0.0                            0.0   \n4                              0.0                            1.0   \n\n   offer received_discount_10_2_10   ...     gender_F  gender_M  gender_O  \\\n0                              0.0   ...            1         0         0   \n1                              0.0   ...            1         0         0   \n2                              1.0   ...            0         1         0   \n3                              1.0   ...            0         1         0   \n4                              1.0   ...            0         1         0   \n\n   member_year_2013  member_year_2014  member_year_2015  member_year_2016  \\\n0                 0                 0                 0                 0   \n1                 0                 0                 0                 0   \n2                 0                 0                 0                 0   \n3                 0                 0                 0                 0   \n4                 0                 0                 0                 0   \n\n   member_year_2017  member_year_2018  cluster  \n0                 1                 0        7  \n1                 1                 0        5  \n2                 0                 1        5  \n3                 0                 1        5  \n4                 1                 0        1  \n\n[5 rows x 94 columns]"
          },
          "metadata": {}
        }
      ]
    },
    {
      "metadata": {
        "trusted": true
      },
      "cell_type": "code",
      "source": "cleaned_data.shape",
      "execution_count": 5,
      "outputs": [
        {
          "output_type": "execute_result",
          "execution_count": 5,
          "data": {
            "text/plain": "(14808, 94)"
          },
          "metadata": {}
        }
      ]
    },
    {
      "metadata": {
        "trusted": true
      },
      "cell_type": "code",
      "source": "# eksik veri kontrolü\ncleaned_data.isnull().sum().sum()",
      "execution_count": 6,
      "outputs": [
        {
          "output_type": "execute_result",
          "execution_count": 6,
          "data": {
            "text/plain": "0"
          },
          "metadata": {}
        }
      ]
    },
    {
      "metadata": {
        "trusted": true
      },
      "cell_type": "code",
      "source": "#Ozelliklerin cogu on islemden gecirilmistir. Fakat modelleri uygularken bazı ozellikler kullanilmayacaktir. Veri setinin islenmesi icin asagıdaki sutunlar kullanilmistir.\nfeatures = ['age',\n 'avg_spending',\n 'gender_F',\n 'gender_M',\n 'gender_O',\n 'income',\n 'informational_received',\n 'invalid',\n 'member_days_since',\n 'member_year_2013',\n 'member_year_2014',\n 'member_year_2015',\n 'member_year_2016',\n 'member_year_2017',\n 'member_year_2018',\n 'offer received_bogo_10_10_5',\n 'offer received_bogo_10_10_7',\n 'offer received_bogo_5_5_5',\n 'offer received_bogo_5_5_7',\n 'offer received_discount_10_2_10',\n 'offer received_discount_10_2_7',\n 'offer received_discount_20_5_10',\n 'offer received_discount_7_3_7',\n 'offer received_informational_0_0_3',\n 'offer received_informational_0_0_4',\n 'offer viewed_bogo_10_10_5',\n 'offer viewed_bogo_10_10_7',\n 'offer viewed_bogo_5_5_5',\n 'offer viewed_bogo_5_5_7',\n 'offer viewed_discount_10_2_10',\n 'offer viewed_discount_10_2_7',\n 'offer viewed_discount_20_5_10',\n 'offer viewed_discount_7_3_7',\n 'rate_offer_viewed_bogo_10_10_5',\n 'rate_offer_viewed_bogo_10_10_7',\n 'rate_offer_viewed_bogo_5_5_5',\n 'rate_offer_viewed_bogo_5_5_7',\n 'rate_offer_viewed_discount_10_2_10',\n 'rate_offer_viewed_discount_10_2_7',\n 'rate_offer_viewed_discount_20_5_10',\n 'rate_offer_viewed_discount_7_3_7',\n 'rate_viewed_bogo',\n 'rate_viewed_discount',\n 'sum_spending',\n 'transaction_count', 'cluster']\n\nX = cleaned_data[features]\n\ntarget_cols = ['rate_completed_received_bogo',\n 'rate_completed_received_discount','rate_viewed_informational']\n\ny = cleaned_data[target_cols]",
      "execution_count": 7,
      "outputs": []
    },
    {
      "metadata": {
        "trusted": true
      },
      "cell_type": "code",
      "source": "X.shape",
      "execution_count": 8,
      "outputs": [
        {
          "output_type": "execute_result",
          "execution_count": 8,
          "data": {
            "text/plain": "(14808, 46)"
          },
          "metadata": {}
        }
      ]
    },
    {
      "metadata": {
        "trusted": true
      },
      "cell_type": "code",
      "source": "# one-hot encoding ile ozellik donusumu \nX_one_hot = pd.get_dummies(X)\n\ndef one_hot(df):\n    return pd.get_dummies(df)",
      "execution_count": 9,
      "outputs": []
    },
    {
      "metadata": {
        "trusted": true
      },
      "cell_type": "code",
      "source": "X_one_hot.columns",
      "execution_count": 10,
      "outputs": [
        {
          "output_type": "execute_result",
          "execution_count": 10,
          "data": {
            "text/plain": "Index(['age', 'avg_spending', 'gender_F', 'gender_M', 'gender_O', 'income',\n       'informational_received', 'invalid', 'member_days_since',\n       'member_year_2013', 'member_year_2014', 'member_year_2015',\n       'member_year_2016', 'member_year_2017', 'member_year_2018',\n       'offer received_bogo_10_10_5', 'offer received_bogo_10_10_7',\n       'offer received_bogo_5_5_5', 'offer received_bogo_5_5_7',\n       'offer received_discount_10_2_10', 'offer received_discount_10_2_7',\n       'offer received_discount_20_5_10', 'offer received_discount_7_3_7',\n       'offer received_informational_0_0_3',\n       'offer received_informational_0_0_4', 'offer viewed_bogo_10_10_5',\n       'offer viewed_bogo_10_10_7', 'offer viewed_bogo_5_5_5',\n       'offer viewed_bogo_5_5_7', 'offer viewed_discount_10_2_10',\n       'offer viewed_discount_10_2_7', 'offer viewed_discount_20_5_10',\n       'offer viewed_discount_7_3_7', 'rate_offer_viewed_bogo_10_10_5',\n       'rate_offer_viewed_bogo_10_10_7', 'rate_offer_viewed_bogo_5_5_5',\n       'rate_offer_viewed_bogo_5_5_7', 'rate_offer_viewed_discount_10_2_10',\n       'rate_offer_viewed_discount_10_2_7',\n       'rate_offer_viewed_discount_20_5_10',\n       'rate_offer_viewed_discount_7_3_7', 'rate_viewed_bogo',\n       'rate_viewed_discount', 'sum_spending', 'transaction_count', 'cluster'],\n      dtype='object')"
          },
          "metadata": {}
        }
      ]
    },
    {
      "metadata": {
        "trusted": true
      },
      "cell_type": "code",
      "source": "#Veri olceklendirme\nfrom sklearn.preprocessing import StandardScaler, RobustScaler\n\ndef scaler(features):\n    scale = StandardScaler()\n    scale.fit(features)\n    features_std = pd.DataFrame(scale.transform(features), index= features.index, columns=features.columns)\n    \n    return features_std\n\nX_std = scaler(X_one_hot)",
      "execution_count": 11,
      "outputs": []
    },
    {
      "metadata": {
        "trusted": true
      },
      "cell_type": "code",
      "source": "def get_train_test(features, target):\n    \n    # Veri setini train ve test olarak ayırma işlemi\n\n    from sklearn.model_selection import train_test_split as ts\n\n    X_train, X_test, y_train, y_test = ts(features, target, test_size=0.33, random_state=42)\n    \n    return X_train, X_test, y_train, y_test",
      "execution_count": 12,
      "outputs": []
    },
    {
      "metadata": {
        "trusted": true
      },
      "cell_type": "code",
      "source": "X_train, X_test, y_train, y_test = get_train_test(X_one_hot, y)",
      "execution_count": 13,
      "outputs": []
    },
    {
      "metadata": {
        "trusted": true
      },
      "cell_type": "code",
      "source": "#Lineer Resresyon Modelinin Uygulanmasi\n\nnp.random.seed(42)\nestimators = [('standardize', StandardScaler()),\n             ('reg', MultiOutputRegressor(LinearRegression()))]\n\npipeline = Pipeline(estimators)\nkfold = KFold(n_splits=10, random_state=42)\n#Modelleri puanlamak için R2 ve MSE metrikleri kullanılır\nresults = cross_validate(pipeline, X_train, y_train, cv=kfold, scoring=['r2','neg_mean_squared_error'])\n\nr2_arr = results['test_r2']\nmse_arr = results['test_neg_mean_squared_error']*-1\n\nprint(f\"R^2: {r2_arr.mean():.4f} with stdev {r2_arr.std():.4f}\")\nprint(f\"MSE: {mse_arr.mean():.4f} with stdev {mse_arr.std():.4f}\")",
      "execution_count": 14,
      "outputs": [
        {
          "output_type": "stream",
          "text": "R^2: 0.4464 with stdev 0.0557\nMSE: 0.1083 with stdev 0.0130\n",
          "name": "stdout"
        }
      ]
    },
    {
      "metadata": {
        "trusted": true
      },
      "cell_type": "code",
      "source": "#Random Forest Modelinin Uygulanmasi\nfrom sklearn.ensemble import RandomForestRegressor\n\nnp.random.seed(42)\nestimators = [('standardize', StandardScaler()),\n             ('reg', MultiOutputRegressor(RandomForestRegressor(random_state=42)))]\n\npipeline = Pipeline(estimators)\nkfold = KFold(n_splits=10, random_state=42)\n#R2 ve MSE metrikleri modellerin değerlendirilmesinde kullanılır\nresults = cross_validate(pipeline, X_train, y_train, cv=kfold, scoring=['r2','neg_mean_squared_error'])\n\nr2_arr = results['test_r2']\nmse_arr = results['test_neg_mean_squared_error']*-1\n\nprint(f\"R^2: {r2_arr.mean():.4f} with stdev {r2_arr.std():.4f}\")\nprint(f\"MSE: {mse_arr.mean():.4f} with stdev {mse_arr.std():.4f}\")",
      "execution_count": 15,
      "outputs": [
        {
          "output_type": "stream",
          "text": "R^2: 0.7370 with stdev 0.0118\nMSE: 0.0522 with stdev 0.0022\n",
          "name": "stdout"
        }
      ]
    },
    {
      "metadata": {
        "trusted": true
      },
      "cell_type": "code",
      "source": "#Olceklendirme kullanmadan Random Forest modelinin uygulanmasi\nfrom sklearn.ensemble import RandomForestRegressor\n\nnp.random.seed(42)\n\nrf = MultiOutputRegressor(RandomForestRegressor(random_state=42))\n\nkfold = KFold(n_splits=10, random_state=42)\nresults = cross_validate(rf, X_train, y_train, cv=kfold, scoring=['r2','neg_mean_squared_error'])\n\nr2_arr = results['test_r2']\nmse_arr = results['test_neg_mean_squared_error']*-1\n\nprint(f\"R^2: {r2_arr.mean():.4f} with stdev {r2_arr.std():.4f}\")\nprint(f\"MSE: {mse_arr.mean():.4f} with stdev {mse_arr.std():.4f}\")",
      "execution_count": 16,
      "outputs": [
        {
          "output_type": "stream",
          "text": "R^2: 0.7368 with stdev 0.0115\nMSE: 0.0522 with stdev 0.0021\n",
          "name": "stdout"
        }
      ]
    },
    {
      "metadata": {
        "trusted": true
      },
      "cell_type": "code",
      "source": "# Model parametrelerinin ayarlanmasi\n\n# Gerekli kutuphanelerin import edilmesi \nfrom sklearn.model_selection import GridSearchCV, RandomizedSearchCV\n\n\nnp.random.seed(42)\n\nreg = MultiOutputRegressor(RandomForestRegressor(random_state=42))\n\n\n#Ayarlanacak parametreler listesi\n\nparametreler = {'estimator__min_samples_split' : [2,5,7,9,12],\n                'estimator__n_estimators':[50, 75,100,200,300, 500],\n                'estimator__min_samples_leaf': [1,3,5,7,9],\n                'estimator__max_depth': [2,3,5,8,10, None]\n                }\n\n\n# Grid Search, Hyper-parametrelerini kesfetmek icin kullanislidir\ngrid_obj = RandomizedSearchCV(reg, param_distributions=parametreler,n_iter = 50,scoring='neg_mean_squared_error', verbose=10, n_jobs=-1)\n\n# Grid search nesnesini egitim verilerine uydurma\ngrid_fit = grid_obj.fit(X_train, y_train)\n\n# Tahmincinin alinmasi\nbest_reg = grid_fit.best_estimator_",
      "execution_count": 20,
      "outputs": [
        {
          "output_type": "stream",
          "text": "Fitting 3 folds for each of 50 candidates, totalling 150 fits\n",
          "name": "stdout"
        },
        {
          "output_type": "stream",
          "text": "[Parallel(n_jobs=-1)]: Using backend LokyBackend with 2 concurrent workers.\n[Parallel(n_jobs=-1)]: Done   1 tasks      | elapsed:   13.4s\n[Parallel(n_jobs=-1)]: Done   4 tasks      | elapsed:  1.3min\n[Parallel(n_jobs=-1)]: Done   9 tasks      | elapsed:  1.9min\n[Parallel(n_jobs=-1)]: Done  14 tasks      | elapsed:  2.3min\n[Parallel(n_jobs=-1)]: Done  21 tasks      | elapsed:  4.0min\n[Parallel(n_jobs=-1)]: Done  28 tasks      | elapsed:  4.3min\n[Parallel(n_jobs=-1)]: Done  37 tasks      | elapsed:  5.8min\n[Parallel(n_jobs=-1)]: Done  46 tasks      | elapsed:  6.7min\n[Parallel(n_jobs=-1)]: Done  57 tasks      | elapsed:  7.3min\n[Parallel(n_jobs=-1)]: Done  68 tasks      | elapsed:  8.7min\n[Parallel(n_jobs=-1)]: Done  81 tasks      | elapsed:  9.5min\n[Parallel(n_jobs=-1)]: Done  94 tasks      | elapsed: 11.4min\n[Parallel(n_jobs=-1)]: Done 109 tasks      | elapsed: 13.4min\n[Parallel(n_jobs=-1)]: Done 124 tasks      | elapsed: 15.7min\n[Parallel(n_jobs=-1)]: Done 141 tasks      | elapsed: 18.2min\n[Parallel(n_jobs=-1)]: Done 150 out of 150 | elapsed: 19.9min finished\n",
          "name": "stderr"
        }
      ]
    },
    {
      "metadata": {
        "trusted": true
      },
      "cell_type": "code",
      "source": "#Parametreleri ayarlanmis modelde r2 ve MSE metriklerinin sonuclari\nprint('R^2 score : ', best_reg.score(X_test, y_test))\nprint('MSE : ', mean_squared_error(y_test, best_reg.predict(X_test)))",
      "execution_count": 22,
      "outputs": [
        {
          "output_type": "stream",
          "text": "R^2 score :  0.7675071612835795\nMSE :  0.046608680520489554\n",
          "name": "stdout"
        }
      ]
    },
    {
      "metadata": {
        "trusted": true
      },
      "cell_type": "code",
      "source": "#Linear Support Vector Regression Modelinin Uygulanmasi\nfrom sklearn.svm import LinearSVR\n\nnp.random.seed(60)\nestimators = [('standardize', StandardScaler()),\n             ('reg', MultiOutputRegressor(LinearSVR(random_state=60)))]\n\npipeline = Pipeline(estimators)\nkfold = KFold(n_splits=60, random_state=65)\n#R2 ve MSE metrikleri modellerin degerlendirilmesinde kullanilir\nresults = cross_validate(pipeline, X_train, y_train, cv=kfold, scoring=['r2','neg_mean_squared_error'])\n\nr2_arr = results['test_r2']\nmse_arr = results['test_neg_mean_squared_error']*-1\n\nprint(f\"R^2: {r2_arr.mean():.4f} with stdev {r2_arr.std():.4f}\")\nprint(f\"MSE: {mse_arr.mean():.4f} with stdev {mse_arr.std():.4f}\")",
      "execution_count": 17,
      "outputs": [
        {
          "output_type": "stream",
          "text": "R^2: 0.2811 with stdev 0.0748\nMSE: 0.1405 with stdev 0.0141\n",
          "name": "stdout"
        }
      ]
    },
    {
      "metadata": {
        "trusted": true
      },
      "cell_type": "code",
      "source": "",
      "execution_count": null,
      "outputs": []
    }
  ],
  "metadata": {
    "kernelspec": {
      "name": "python36",
      "display_name": "Python 3.6",
      "language": "python"
    },
    "language_info": {
      "mimetype": "text/x-python",
      "nbconvert_exporter": "python",
      "name": "python",
      "pygments_lexer": "ipython3",
      "version": "3.6.6",
      "file_extension": ".py",
      "codemirror_mode": {
        "version": 3,
        "name": "ipython"
      }
    }
  },
  "nbformat": 4,
  "nbformat_minor": 2
}