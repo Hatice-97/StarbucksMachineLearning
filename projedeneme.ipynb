{
  "cells": [
    {
      "metadata": {
        "trusted": true
      },
      "cell_type": "code",
      "source": "import pandas as pd\nimport numpy as np\nimport math\nimport json\nimport seaborn as sns\nfrom tqdm import tqdm\nimport matplotlib.pyplot as plt\n%matplotlib inline\n\nimport warnings\nwarnings.filterwarnings('ignore')\n\n%load_ext autoreload\n%autoreload 2\nimport helpers as h",
      "execution_count": 1,
      "outputs": []
    },
    {
      "metadata": {
        "trusted": true
      },
      "cell_type": "code",
      "source": "main_cluster = pd.read_csv('main_cluster.csv')\nmain_cluster = main_cluster.set_index(main_cluster.columns[0])\n\n#rename cluster name to m_1, m_2, etc\nmain_cluster['cluster'] = main_cluster['cluster'].apply(lambda x: 'm_'+ str(x))",
      "execution_count": 2,
      "outputs": []
    },
    {
      "metadata": {
        "trusted": true
      },
      "cell_type": "code",
      "source": "main_cluster.shape",
      "execution_count": 3,
      "outputs": [
        {
          "output_type": "execute_result",
          "execution_count": 3,
          "data": {
            "text/plain": "(14808, 93)"
          },
          "metadata": {}
        }
      ]
    },
    {
      "metadata": {
        "trusted": true
      },
      "cell_type": "code",
      "source": "main_cluster.head()",
      "execution_count": 4,
      "outputs": [
        {
          "output_type": "execute_result",
          "execution_count": 4,
          "data": {
            "text/html": "<div>\n<style scoped>\n    .dataframe tbody tr th:only-of-type {\n        vertical-align: middle;\n    }\n\n    .dataframe tbody tr th {\n        vertical-align: top;\n    }\n\n    .dataframe thead th {\n        text-align: right;\n    }\n</style>\n<table border=\"1\" class=\"dataframe\">\n  <thead>\n    <tr style=\"text-align: right;\">\n      <th></th>\n      <th>age</th>\n      <th>income</th>\n      <th>offer received_bogo_10_10_7</th>\n      <th>offer received_bogo_10_10_5</th>\n      <th>offer received_informational_0_0_4</th>\n      <th>offer received_bogo_5_5_7</th>\n      <th>offer received_discount_20_5_10</th>\n      <th>offer received_discount_7_3_7</th>\n      <th>offer received_discount_10_2_10</th>\n      <th>offer received_informational_0_0_3</th>\n      <th>...</th>\n      <th>gender_F</th>\n      <th>gender_M</th>\n      <th>gender_O</th>\n      <th>member_year_2013</th>\n      <th>member_year_2014</th>\n      <th>member_year_2015</th>\n      <th>member_year_2016</th>\n      <th>member_year_2017</th>\n      <th>member_year_2018</th>\n      <th>cluster</th>\n    </tr>\n    <tr>\n      <th>Unnamed: 0</th>\n      <th></th>\n      <th></th>\n      <th></th>\n      <th></th>\n      <th></th>\n      <th></th>\n      <th></th>\n      <th></th>\n      <th></th>\n      <th></th>\n      <th></th>\n      <th></th>\n      <th></th>\n      <th></th>\n      <th></th>\n      <th></th>\n      <th></th>\n      <th></th>\n      <th></th>\n      <th></th>\n      <th></th>\n    </tr>\n  </thead>\n  <tbody>\n    <tr>\n      <th>0610b486422d4921ae7d2bf64640c50b</th>\n      <td>55</td>\n      <td>112000.0</td>\n      <td>0.0</td>\n      <td>0.0</td>\n      <td>1.0</td>\n      <td>1.0</td>\n      <td>0.0</td>\n      <td>0.0</td>\n      <td>0.0</td>\n      <td>0.0</td>\n      <td>...</td>\n      <td>1</td>\n      <td>0</td>\n      <td>0</td>\n      <td>0</td>\n      <td>0</td>\n      <td>0</td>\n      <td>0</td>\n      <td>1</td>\n      <td>0</td>\n      <td>m_7</td>\n    </tr>\n    <tr>\n      <th>78afa995795e4d85b5d9ceeca43f5fef</th>\n      <td>75</td>\n      <td>100000.0</td>\n      <td>1.0</td>\n      <td>0.0</td>\n      <td>0.0</td>\n      <td>1.0</td>\n      <td>0.0</td>\n      <td>0.0</td>\n      <td>0.0</td>\n      <td>1.0</td>\n      <td>...</td>\n      <td>1</td>\n      <td>0</td>\n      <td>0</td>\n      <td>0</td>\n      <td>0</td>\n      <td>0</td>\n      <td>0</td>\n      <td>1</td>\n      <td>0</td>\n      <td>m_5</td>\n    </tr>\n    <tr>\n      <th>e2127556f4f64592b11af22de27a7932</th>\n      <td>68</td>\n      <td>70000.0</td>\n      <td>0.0</td>\n      <td>0.0</td>\n      <td>1.0</td>\n      <td>1.0</td>\n      <td>0.0</td>\n      <td>0.0</td>\n      <td>1.0</td>\n      <td>0.0</td>\n      <td>...</td>\n      <td>0</td>\n      <td>1</td>\n      <td>0</td>\n      <td>0</td>\n      <td>0</td>\n      <td>0</td>\n      <td>0</td>\n      <td>0</td>\n      <td>1</td>\n      <td>m_5</td>\n    </tr>\n    <tr>\n      <th>389bc3fa690240e798340f5a15918d5c</th>\n      <td>65</td>\n      <td>53000.0</td>\n      <td>0.0</td>\n      <td>0.0</td>\n      <td>0.0</td>\n      <td>2.0</td>\n      <td>0.0</td>\n      <td>0.0</td>\n      <td>1.0</td>\n      <td>0.0</td>\n      <td>...</td>\n      <td>0</td>\n      <td>1</td>\n      <td>0</td>\n      <td>0</td>\n      <td>0</td>\n      <td>0</td>\n      <td>0</td>\n      <td>0</td>\n      <td>1</td>\n      <td>m_5</td>\n    </tr>\n    <tr>\n      <th>2eeac8d8feae4a8cad5a6af0499a211d</th>\n      <td>58</td>\n      <td>51000.0</td>\n      <td>0.0</td>\n      <td>0.0</td>\n      <td>1.0</td>\n      <td>0.0</td>\n      <td>0.0</td>\n      <td>1.0</td>\n      <td>1.0</td>\n      <td>0.0</td>\n      <td>...</td>\n      <td>0</td>\n      <td>1</td>\n      <td>0</td>\n      <td>0</td>\n      <td>0</td>\n      <td>0</td>\n      <td>0</td>\n      <td>1</td>\n      <td>0</td>\n      <td>m_1</td>\n    </tr>\n  </tbody>\n</table>\n<p>5 rows × 93 columns</p>\n</div>",
            "text/plain": "                                  age    income  offer received_bogo_10_10_7  \\\nUnnamed: 0                                                                     \n0610b486422d4921ae7d2bf64640c50b   55  112000.0                          0.0   \n78afa995795e4d85b5d9ceeca43f5fef   75  100000.0                          1.0   \ne2127556f4f64592b11af22de27a7932   68   70000.0                          0.0   \n389bc3fa690240e798340f5a15918d5c   65   53000.0                          0.0   \n2eeac8d8feae4a8cad5a6af0499a211d   58   51000.0                          0.0   \n\n                                  offer received_bogo_10_10_5  \\\nUnnamed: 0                                                      \n0610b486422d4921ae7d2bf64640c50b                          0.0   \n78afa995795e4d85b5d9ceeca43f5fef                          0.0   \ne2127556f4f64592b11af22de27a7932                          0.0   \n389bc3fa690240e798340f5a15918d5c                          0.0   \n2eeac8d8feae4a8cad5a6af0499a211d                          0.0   \n\n                                  offer received_informational_0_0_4  \\\nUnnamed: 0                                                             \n0610b486422d4921ae7d2bf64640c50b                                 1.0   \n78afa995795e4d85b5d9ceeca43f5fef                                 0.0   \ne2127556f4f64592b11af22de27a7932                                 1.0   \n389bc3fa690240e798340f5a15918d5c                                 0.0   \n2eeac8d8feae4a8cad5a6af0499a211d                                 1.0   \n\n                                  offer received_bogo_5_5_7  \\\nUnnamed: 0                                                    \n0610b486422d4921ae7d2bf64640c50b                        1.0   \n78afa995795e4d85b5d9ceeca43f5fef                        1.0   \ne2127556f4f64592b11af22de27a7932                        1.0   \n389bc3fa690240e798340f5a15918d5c                        2.0   \n2eeac8d8feae4a8cad5a6af0499a211d                        0.0   \n\n                                  offer received_discount_20_5_10  \\\nUnnamed: 0                                                          \n0610b486422d4921ae7d2bf64640c50b                              0.0   \n78afa995795e4d85b5d9ceeca43f5fef                              0.0   \ne2127556f4f64592b11af22de27a7932                              0.0   \n389bc3fa690240e798340f5a15918d5c                              0.0   \n2eeac8d8feae4a8cad5a6af0499a211d                              0.0   \n\n                                  offer received_discount_7_3_7  \\\nUnnamed: 0                                                        \n0610b486422d4921ae7d2bf64640c50b                            0.0   \n78afa995795e4d85b5d9ceeca43f5fef                            0.0   \ne2127556f4f64592b11af22de27a7932                            0.0   \n389bc3fa690240e798340f5a15918d5c                            0.0   \n2eeac8d8feae4a8cad5a6af0499a211d                            1.0   \n\n                                  offer received_discount_10_2_10  \\\nUnnamed: 0                                                          \n0610b486422d4921ae7d2bf64640c50b                              0.0   \n78afa995795e4d85b5d9ceeca43f5fef                              0.0   \ne2127556f4f64592b11af22de27a7932                              1.0   \n389bc3fa690240e798340f5a15918d5c                              1.0   \n2eeac8d8feae4a8cad5a6af0499a211d                              1.0   \n\n                                  offer received_informational_0_0_3   ...     \\\nUnnamed: 0                                                             ...      \n0610b486422d4921ae7d2bf64640c50b                                 0.0   ...      \n78afa995795e4d85b5d9ceeca43f5fef                                 1.0   ...      \ne2127556f4f64592b11af22de27a7932                                 0.0   ...      \n389bc3fa690240e798340f5a15918d5c                                 0.0   ...      \n2eeac8d8feae4a8cad5a6af0499a211d                                 0.0   ...      \n\n                                  gender_F  gender_M  gender_O  \\\nUnnamed: 0                                                       \n0610b486422d4921ae7d2bf64640c50b         1         0         0   \n78afa995795e4d85b5d9ceeca43f5fef         1         0         0   \ne2127556f4f64592b11af22de27a7932         0         1         0   \n389bc3fa690240e798340f5a15918d5c         0         1         0   \n2eeac8d8feae4a8cad5a6af0499a211d         0         1         0   \n\n                                  member_year_2013  member_year_2014  \\\nUnnamed: 0                                                             \n0610b486422d4921ae7d2bf64640c50b                 0                 0   \n78afa995795e4d85b5d9ceeca43f5fef                 0                 0   \ne2127556f4f64592b11af22de27a7932                 0                 0   \n389bc3fa690240e798340f5a15918d5c                 0                 0   \n2eeac8d8feae4a8cad5a6af0499a211d                 0                 0   \n\n                                  member_year_2015  member_year_2016  \\\nUnnamed: 0                                                             \n0610b486422d4921ae7d2bf64640c50b                 0                 0   \n78afa995795e4d85b5d9ceeca43f5fef                 0                 0   \ne2127556f4f64592b11af22de27a7932                 0                 0   \n389bc3fa690240e798340f5a15918d5c                 0                 0   \n2eeac8d8feae4a8cad5a6af0499a211d                 0                 0   \n\n                                  member_year_2017  member_year_2018  cluster  \nUnnamed: 0                                                                     \n0610b486422d4921ae7d2bf64640c50b                 1                 0      m_7  \n78afa995795e4d85b5d9ceeca43f5fef                 1                 0      m_5  \ne2127556f4f64592b11af22de27a7932                 0                 1      m_5  \n389bc3fa690240e798340f5a15918d5c                 0                 1      m_5  \n2eeac8d8feae4a8cad5a6af0499a211d                 1                 0      m_1  \n\n[5 rows x 93 columns]"
          },
          "metadata": {}
        }
      ]
    },
    {
      "metadata": {
        "trusted": true
      },
      "cell_type": "code",
      "source": "# check for null data\nmain_cluster.isnull().sum().sum()",
      "execution_count": 5,
      "outputs": [
        {
          "output_type": "execute_result",
          "execution_count": 5,
          "data": {
            "text/plain": "0"
          },
          "metadata": {}
        }
      ]
    },
    {
      "metadata": {
        "trusted": true
      },
      "cell_type": "code",
      "source": "features = ['age',\n 'avg_spending',\n 'gender_F',\n 'gender_M',\n 'gender_O',\n 'income',\n 'informational_received',\n 'invalid',\n 'member_days_since',\n 'member_year_2013',\n 'member_year_2014',\n 'member_year_2015',\n 'member_year_2016',\n 'member_year_2017',\n 'member_year_2018',\n 'offer received_bogo_10_10_5',\n 'offer received_bogo_10_10_7',\n 'offer received_bogo_5_5_5',\n 'offer received_bogo_5_5_7',\n 'offer received_discount_10_2_10',\n 'offer received_discount_10_2_7',\n 'offer received_discount_20_5_10',\n 'offer received_discount_7_3_7',\n 'offer received_informational_0_0_3',\n 'offer received_informational_0_0_4',\n 'offer viewed_bogo_10_10_5',\n 'offer viewed_bogo_10_10_7',\n 'offer viewed_bogo_5_5_5',\n 'offer viewed_bogo_5_5_7',\n 'offer viewed_discount_10_2_10',\n 'offer viewed_discount_10_2_7',\n 'offer viewed_discount_20_5_10',\n 'offer viewed_discount_7_3_7',\n 'rate_offer_viewed_bogo_10_10_5',\n 'rate_offer_viewed_bogo_10_10_7',\n 'rate_offer_viewed_bogo_5_5_5',\n 'rate_offer_viewed_bogo_5_5_7',\n 'rate_offer_viewed_discount_10_2_10',\n 'rate_offer_viewed_discount_10_2_7',\n 'rate_offer_viewed_discount_20_5_10',\n 'rate_offer_viewed_discount_7_3_7',\n 'rate_viewed_bogo',\n 'rate_viewed_discount',\n 'sum_spending',\n 'transaction_count', 'cluster']\n\nX = main_cluster[features]\n\ntarget_cols = ['rate_completed_received_bogo',\n 'rate_completed_received_discount','rate_viewed_informational']\n\ny = main_cluster[target_cols]",
      "execution_count": 6,
      "outputs": []
    },
    {
      "metadata": {
        "trusted": true
      },
      "cell_type": "code",
      "source": "X.shape",
      "execution_count": 7,
      "outputs": [
        {
          "output_type": "execute_result",
          "execution_count": 7,
          "data": {
            "text/plain": "(14808, 46)"
          },
          "metadata": {}
        }
      ]
    },
    {
      "metadata": {
        "trusted": true
      },
      "cell_type": "code",
      "source": "X_one_hot = pd.get_dummies(X)\n\ndef one_hot(df):\n    return pd.get_dummies(df)",
      "execution_count": 8,
      "outputs": []
    },
    {
      "metadata": {
        "trusted": true
      },
      "cell_type": "code",
      "source": "X_one_hot.columns",
      "execution_count": 9,
      "outputs": [
        {
          "output_type": "execute_result",
          "execution_count": 9,
          "data": {
            "text/plain": "Index(['age', 'avg_spending', 'gender_F', 'gender_M', 'gender_O', 'income',\n       'informational_received', 'invalid', 'member_days_since',\n       'member_year_2013', 'member_year_2014', 'member_year_2015',\n       'member_year_2016', 'member_year_2017', 'member_year_2018',\n       'offer received_bogo_10_10_5', 'offer received_bogo_10_10_7',\n       'offer received_bogo_5_5_5', 'offer received_bogo_5_5_7',\n       'offer received_discount_10_2_10', 'offer received_discount_10_2_7',\n       'offer received_discount_20_5_10', 'offer received_discount_7_3_7',\n       'offer received_informational_0_0_3',\n       'offer received_informational_0_0_4', 'offer viewed_bogo_10_10_5',\n       'offer viewed_bogo_10_10_7', 'offer viewed_bogo_5_5_5',\n       'offer viewed_bogo_5_5_7', 'offer viewed_discount_10_2_10',\n       'offer viewed_discount_10_2_7', 'offer viewed_discount_20_5_10',\n       'offer viewed_discount_7_3_7', 'rate_offer_viewed_bogo_10_10_5',\n       'rate_offer_viewed_bogo_10_10_7', 'rate_offer_viewed_bogo_5_5_5',\n       'rate_offer_viewed_bogo_5_5_7', 'rate_offer_viewed_discount_10_2_10',\n       'rate_offer_viewed_discount_10_2_7',\n       'rate_offer_viewed_discount_20_5_10',\n       'rate_offer_viewed_discount_7_3_7', 'rate_viewed_bogo',\n       'rate_viewed_discount', 'sum_spending', 'transaction_count',\n       'cluster_m_0', 'cluster_m_1', 'cluster_m_2', 'cluster_m_3',\n       'cluster_m_4', 'cluster_m_5', 'cluster_m_6', 'cluster_m_7',\n       'cluster_m_8'],\n      dtype='object')"
          },
          "metadata": {}
        }
      ]
    },
    {
      "metadata": {
        "trusted": true
      },
      "cell_type": "code",
      "source": "from sklearn.preprocessing import StandardScaler, RobustScaler\n\ndef scaling(features):\n    scale = StandardScaler()\n    scale.fit(features)\n    features_std = pd.DataFrame(scale.transform(features), index= features.index, columns=features.columns)\n    \n    return features_std\n\nX_std = scaling(X_one_hot)",
      "execution_count": 10,
      "outputs": []
    },
    {
      "metadata": {
        "trusted": true
      },
      "cell_type": "code",
      "source": "def get_train_test(features, target):\n    \n    \"\"\" Split : Train - Test \"\"\"\n\n    from sklearn.model_selection import train_test_split as tts\n\n    X_train, X_test, y_train, y_test = tts(features, target, test_size=0.33, random_state=42)\n    \n    return X_train, X_test, y_train, y_test",
      "execution_count": 11,
      "outputs": []
    },
    {
      "metadata": {
        "trusted": true
      },
      "cell_type": "code",
      "source": "# as feature scaling will be included in model pipeline\n# the data will be split after performing one hot encoding.\n\nX_train, X_test, y_train, y_test = get_train_test(X_one_hot, y)",
      "execution_count": 12,
      "outputs": []
    },
    {
      "metadata": {
        "trusted": true
      },
      "cell_type": "code",
      "source": "from sklearn.model_selection import cross_val_score, cross_validate\nfrom sklearn.model_selection import KFold\nfrom sklearn.pipeline import Pipeline\nfrom sklearn.preprocessing import FunctionTransformer\nfrom sklearn.metrics import  mean_squared_error\nfrom sklearn.multioutput import MultiOutputRegressor\nfrom sklearn.ensemble import GradientBoostingRegressor\nfrom sklearn.preprocessing import StandardScaler, RobustScaler, MinMaxScaler",
      "execution_count": 13,
      "outputs": []
    },
    {
      "metadata": {
        "trusted": true
      },
      "cell_type": "code",
      "source": "from sklearn.linear_model import LinearRegression\n\n\nseed=42\nnp.random.seed(seed)\nestimators = [('standardize', StandardScaler()),\n             ('reg', MultiOutputRegressor(LinearRegression()))]\n\npipeline = Pipeline(estimators)\nkfold = KFold(n_splits=10, random_state=seed)\nresults = cross_validate(pipeline, X_train, y_train, cv=kfold, scoring=['r2','neg_mean_squared_error'])\n\nr2_arr = results['test_r2']\nmse_arr = results['test_neg_mean_squared_error']*-1\n\nprint(f\"R^2: {r2_arr.mean():.4f} with stdev {r2_arr.std():.4f}\")\nprint(f\"MSE: {mse_arr.mean():.4f} with stdev {mse_arr.std():.4f}\")",
      "execution_count": 14,
      "outputs": [
        {
          "output_type": "stream",
          "text": "R^2: 0.6100 with stdev 0.0120\nMSE: 0.0783 with stdev 0.0020\n",
          "name": "stdout"
        }
      ]
    },
    {
      "metadata": {
        "trusted": true
      },
      "cell_type": "code",
      "source": "# get model list\n#models = h.get_models_multioutput()\n# evaluate models\n#results = h.evaluate_models(X_train, y_train, models, metric='neg_mean_squared_error')",
      "execution_count": 15,
      "outputs": []
    },
    {
      "metadata": {
        "trusted": true
      },
      "cell_type": "code",
      "source": "# summarize results\nh.summarize_results(results)",
      "execution_count": 16,
      "outputs": [
        {
          "output_type": "stream",
          "text": "\nRank=1, Name=train_r2, Score=0.616 (+/- 0.003)\nRank=2, Name=test_r2, Score=0.610 (+/- 0.012)\nRank=3, Name=fit_time, Score=0.243 (+/- 0.043)\nRank=4, Name=score_time, Score=0.029 (+/- 0.006)\nRank=5, Name=train_neg_mean_squared_error, Score=-0.077 (+/- 0.001)\nRank=6, Name=test_neg_mean_squared_error, Score=-0.078 (+/- 0.002)\n",
          "name": "stdout"
        },
        {
          "output_type": "display_data",
          "data": {
            "image/png": "[encoded data removed]",
            "text/plain": "<Figure size 432x288 with 1 Axes>"
          },
          "metadata": {
            "needs_background": "light"
          }
        }
      ]
    },
    {
      "metadata": {
        "trusted": true
      },
      "cell_type": "code",
      "source": "from sklearn.ensemble import RandomForestRegressor\n\nseed=42\nnp.random.seed(seed)\nestimators = [('standardize', StandardScaler()),\n             ('reg', MultiOutputRegressor(RandomForestRegressor(random_state=seed)))]\n\npipeline = Pipeline(estimators)\nkfold = KFold(n_splits=10, random_state=seed)\nresults = cross_validate(pipeline, X_train, y_train, cv=kfold, scoring=['r2','neg_mean_squared_error'])\n\nr2_arr = results['test_r2']\nmse_arr = results['test_neg_mean_squared_error']*-1\n\nprint(f\"R^2: {r2_arr.mean():.4f} with stdev {r2_arr.std():.4f}\")\nprint(f\"MSE: {mse_arr.mean():.4f} with stdev {mse_arr.std():.4f}\")",
      "execution_count": 17,
      "outputs": [
        {
          "output_type": "stream",
          "text": "R^2: 0.7573 with stdev 0.0103\nMSE: 0.0484 with stdev 0.0019\n",
          "name": "stdout"
        }
      ]
    },
    {
      "metadata": {
        "trusted": true
      },
      "cell_type": "code",
      "source": "from sklearn.ensemble import RandomForestRegressor\n\nseed=42\nnp.random.seed(seed)\n\nrf = MultiOutputRegressor(RandomForestRegressor(random_state=seed))\n\nkfold = KFold(n_splits=10, random_state=seed)\nresults = cross_validate(rf, X_train, y_train, cv=kfold, scoring=['r2','neg_mean_squared_error'])\n\nr2_arr = results['test_r2']\nmse_arr = results['test_neg_mean_squared_error']*-1\n\nprint(f\"R^2: {r2_arr.mean():.4f} with stdev {r2_arr.std():.4f}\")\nprint(f\"MSE: {mse_arr.mean():.4f} with stdev {mse_arr.std():.4f}\")",
      "execution_count": 18,
      "outputs": [
        {
          "output_type": "stream",
          "text": "R^2: 0.7574 with stdev 0.0101\nMSE: 0.0484 with stdev 0.0019\n",
          "name": "stdout"
        }
      ]
    },
    {
      "metadata": {
        "trusted": true
      },
      "cell_type": "code",
      "source": "\"\"\" Model Tuning \"\"\"\n\n# Import \nfrom sklearn.model_selection import GridSearchCV, RandomizedSearchCV\n\n\n# Initialize the classifier\nseed=42\nnp.random.seed(seed)\n\nreg = MultiOutputRegressor(RandomForestRegressor(random_state=seed))\n\n\n#kfold = KFold(n_splits=5, random_state=seed)\n\n#Create the parameters list to tune\n\nparameters = {'estimator__n_estimators':[50, 75,100,200,300, 500], \n              'estimator__max_depth' : [2,3,5,8,10, None],\n              'estimator__min_samples_split' : [2,5,7,9,12],\n              'estimator__min_samples_leaf' : [1,3,5,7,9]\n             }\n\n\n# Perform grid search \ngrid_obj = RandomizedSearchCV(reg, param_distributions=parameters,n_iter = 50,scoring='neg_mean_squared_error', verbose=10, n_jobs=-1)\n\n# Fit the grid search object to the training data \ngrid_fit = grid_obj.fit(X_train, y_train)\n\n# Get the estimator\nbest_reg = grid_fit.best_estimator_",
      "execution_count": 19,
      "outputs": [
        {
          "output_type": "stream",
          "text": "Fitting 3 folds for each of 50 candidates, totalling 150 fits\n",
          "name": "stdout"
        },
        {
          "output_type": "stream",
          "text": "[Parallel(n_jobs=-1)]: Using backend LokyBackend with 2 concurrent workers.\n[Parallel(n_jobs=-1)]: Done   1 tasks      | elapsed:   27.8s\n[Parallel(n_jobs=-1)]: Done   4 tasks      | elapsed:  2.8min\n[Parallel(n_jobs=-1)]: Done   9 tasks      | elapsed:  4.1min\n[Parallel(n_jobs=-1)]: Done  14 tasks      | elapsed:  5.1min\n[Parallel(n_jobs=-1)]: Done  21 tasks      | elapsed:  8.9min\n[Parallel(n_jobs=-1)]: Done  28 tasks      | elapsed:  9.3min\n[Parallel(n_jobs=-1)]: Done  37 tasks      | elapsed: 12.6min\n[Parallel(n_jobs=-1)]: Done  46 tasks      | elapsed: 14.6min\n[Parallel(n_jobs=-1)]: Done  57 tasks      | elapsed: 15.9min\n[Parallel(n_jobs=-1)]: Done  68 tasks      | elapsed: 18.9min\n[Parallel(n_jobs=-1)]: Done  81 tasks      | elapsed: 21.1min\n[Parallel(n_jobs=-1)]: Done  94 tasks      | elapsed: 25.8min\n[Parallel(n_jobs=-1)]: Done 109 tasks      | elapsed: 31.5min\n[Parallel(n_jobs=-1)]: Done 124 tasks      | elapsed: 37.0min\n[Parallel(n_jobs=-1)]: Done 141 tasks      | elapsed: 43.5min\n[Parallel(n_jobs=-1)]: Done 150 out of 150 | elapsed: 48.1min finished\n",
          "name": "stderr"
        }
      ]
    },
    {
      "metadata": {
        "trusted": true
      },
      "cell_type": "code",
      "source": "print('Tuned Model')\nprint('R^2 score : ', best_reg.score(X_test, y_test))\nprint('MSE : ', mean_squared_error(y_test, best_reg.predict(X_test)))",
      "execution_count": 20,
      "outputs": [
        {
          "output_type": "stream",
          "text": "Tuned Model\nR^2 score :  0.7848040157220697\nMSE :  0.04348968238012815\n",
          "name": "stdout"
        }
      ]
    },
    {
      "metadata": {
        "trusted": true
      },
      "cell_type": "code",
      "source": "",
      "execution_count": null,
      "outputs": []
    }
  ],
  "metadata": {
    "kernelspec": {
      "name": "python36",
      "display_name": "Python 3.6",
      "language": "python"
    },
    "language_info": {
      "mimetype": "text/x-python",
      "nbconvert_exporter": "python",
      "name": "python",
      "pygments_lexer": "ipython3",
      "version": "3.6.6",
      "file_extension": ".py",
      "codemirror_mode": {
        "version": 3,
        "name": "ipython"
      }
    }
  },
  "nbformat": 4,
  "nbformat_minor": 2
}